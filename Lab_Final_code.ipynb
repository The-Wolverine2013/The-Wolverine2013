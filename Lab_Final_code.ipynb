{
  "nbformat": 4,
  "nbformat_minor": 0,
  "metadata": {
    "colab": {
      "provenance": []
    },
    "kernelspec": {
      "name": "python3",
      "display_name": "Python 3"
    },
    "language_info": {
      "name": "python"
    }
  },
  "cells": [
    {
      "cell_type": "code",
      "execution_count": null,
      "metadata": {
        "colab": {
          "base_uri": "https://localhost:8080/"
        },
        "id": "ufyKr_RPuxTQ",
        "outputId": "f06611cc-1287-4bb3-ebf6-01362c07aa26"
      },
      "outputs": [
        {
          "output_type": "stream",
          "name": "stdout",
          "text": [
            "All robots Info:\n",
            "{}\n",
            "1================================\n",
            "A Code has been created and saved for your Robot!\n",
            "2================================\n",
            "Name: Sophia\n",
            "Robot ID: 1010\n",
            "Robot Type: Humanoid\n",
            "Manufacturer: Hanson Electronics\n",
            "Functions: ['Face recognition', 'NLP', 'Speech Recognition']\n",
            "3================================\n",
            "All robots Info:\n",
            "{'1_1010_S': 'Sophia'}\n",
            "4================================\n",
            "A Code has been created and saved for your Robot!\n",
            "5================================\n",
            "Name: Ultron\n",
            "Robot ID: 320\n",
            "Robot Type: Humanoid\n",
            "Manufacturer: Stark Industries\n",
            "Functions: ['Face recognition', 'NLP', 'Flight Power', 'SuperHuman Durability']\n",
            "6================================\n",
            "All robots Info:\n",
            "{'1_1010_S': 'Sophia', '1_320_U': 'Ultron'}\n",
            "Total robots: 2\n"
          ]
        }
      ],
      "source": [
        "class Robot:\n",
        "    robots = {}\n",
        "    robot_num = 0\n",
        "    def __init__(self, name, rID):\n",
        "        self._name = name\n",
        "        self.__rID = rID\n",
        "\n",
        "    def setRID(self, rID):\n",
        "        self.__rID = rID\n",
        "    def getRID(self):\n",
        "        return self.__rID\n",
        "    def __str__(self):\n",
        "        return f'Name: {self._name}\\n'\\\n",
        "               f'Robot ID: {self.__rID}'\n",
        "\n",
        "class HumanoidRobot(Robot):\n",
        "\n",
        "  def __init__(self,name,id,atype,manu,*args):\n",
        "    super().__init__(name,id)\n",
        "    self.name=name\n",
        "    self.alist=[]\n",
        "    self.id=id\n",
        "    self.atype=atype\n",
        "    self.manu=manu\n",
        "    self.code= \"1_\"+ str(self.id) + \"_\" + self.name[0]\n",
        "    Robot.robots[self.code]=self.name\n",
        "    Robot.robot_num+=1\n",
        "    for i in args:\n",
        "      self.alist.append(i)\n",
        "\n",
        "  def addFunctions(self,new):\n",
        "      self.alist.append(new)\n",
        "\n",
        "  def __str__(self):\n",
        "     return(f\"{super().__str__()}\\nRobot Type: {self.atype}\\nManufacturer: {self.manu}\\nFunctions: {self.alist}\")\n",
        "\n",
        "  @classmethod\n",
        "  def makeRobot(cls,name,id,atype,manu,*args):\n",
        "     return cls(name, id,atype, manu, *args)\n",
        "\n",
        "  def makeRobotCode(self):\n",
        "    print(\"A Code has been created and saved for your Robot!\")\n",
        "\n",
        "print(f'All robots Info:\\n{Robot.robots}')\n",
        "robot1 = HumanoidRobot('Sophia', 1010, \"Humanoid\",'Hanson Electronics', 'Face recognition', 'NLP')\n",
        "print('1================================')\n",
        "robot1.makeRobotCode()\n",
        "print('2================================')\n",
        "robot1.addFunctions('Speech Recognition')\n",
        "print(robot1)\n",
        "print('3================================')\n",
        "print(f'All robots Info:\\n{Robot.robots}')\n",
        "robot2 = HumanoidRobot.makeRobot('Ultron', 320, \"Humanoid\",'Stark Industries', 'Face recognition', 'NLP', 'Flight Power' )\n",
        "print('4================================')\n",
        "robot2.makeRobotCode()\n",
        "print('5================================')\n",
        "robot2.addFunctions('SuperHuman Durability')\n",
        "print(robot2)\n",
        "print('6================================')\n",
        "print(f'All robots Info:\\n{Robot.robots}')\n",
        "print('Total robots:',Robot.robot_num)"
      ]
    },
    {
      "cell_type": "code",
      "source": [
        "robots={}\n",
        "name=\"tatsyio\"\n",
        "code=23445\n",
        "robots[code]=name\n",
        "print(robots)"
      ],
      "metadata": {
        "colab": {
          "base_uri": "https://localhost:8080/"
        },
        "id": "FBmoINO7FSmZ",
        "outputId": "f499fc4e-0a2b-4e7b-a426-5c30d8b90f7b"
      },
      "execution_count": null,
      "outputs": [
        {
          "output_type": "stream",
          "name": "stdout",
          "text": [
            "{23445: 'tatsyio'}\n"
          ]
        }
      ]
    }
  ]
}