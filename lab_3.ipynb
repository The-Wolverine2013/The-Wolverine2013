{
  "nbformat": 4,
  "nbformat_minor": 0,
  "metadata": {
    "colab": {
      "provenance": []
    },
    "kernelspec": {
      "name": "python3",
      "display_name": "Python 3"
    },
    "language_info": {
      "name": "python"
    }
  },
  "cells": [
    {
      "cell_type": "code",
      "source": [
        "#task 1\n",
        "class BankAccount:\n",
        "  def __init__(self,name,save):\n",
        "    self.user_name=name\n",
        "    self.account_type=save\n",
        "    self.balance=0\n",
        "\n",
        "account1 = BankAccount(\"Bilbo\", \"Savings\")\n",
        "print(\"=====================================\")\n",
        "print(f\"User Name: {account1.user_name}\")\n",
        "print(f\"Balance: {account1.balance}\")\n",
        "print(f\"Account Type:\", account1.account_type)\n",
        "print(\"=====================================\")\n",
        "account2 = BankAccount(\"Frodo\", \"Business\")\n",
        "print(f\"User Name: {account2.user_name}\")\n",
        "print(f\"Balance: {account2.balance}\")\n",
        "print(f\"Account Type: {account2.account_type}\")\n",
        "print(\"=====================================\")\n",
        "account1.balance=15.75\n",
        "account2.balance=700.5\n",
        "print(f\"new Balance of is {account1.user_name}: {account1.balance}\")\n",
        "print(f\"new Balance of is {account2.user_name}: {account2.balance}\")"
      ],
      "metadata": {
        "colab": {
          "base_uri": "https://localhost:8080/"
        },
        "id": "gGDiWdWiVooZ",
        "outputId": "a19f84af-a38a-4f1c-d7ac-3bb0b26c14ce"
      },
      "execution_count": null,
      "outputs": [
        {
          "output_type": "stream",
          "name": "stdout",
          "text": [
            "=====================================\n",
            "User Name: Bilbo\n",
            "Balance: 0\n",
            "Account Type: Savings\n",
            "=====================================\n",
            "User Name: Frodo\n",
            "Balance: 0\n",
            "Account Type: Business\n",
            "=====================================\n",
            "new Balance of is Bilbo: 15.75\n",
            "new Balance of is Frodo: 700.5\n"
          ]
        }
      ]
    },
    {
      "cell_type": "code",
      "source": [
        "#task 2\n",
        "class MangoTree:\n",
        "  def __init__(self,typ):\n",
        "    self.variety = typ\n",
        "    self.height= 1\n",
        "    self.number_of_mangoes=0\n",
        "\n",
        "mangoTree1= MangoTree(\"Gopalbhog\")\n",
        "# Display the details of the mango tree\n",
        "print(\"=====================================\")\n",
        "print(\"Mango Tree Details:\")\n",
        "print(f\"Variety: {mangoTree1.variety}\")\n",
        "print(f\"Height: {mangoTree1.height} meter(s)\")\n",
        "print(f\"Number of mangoes on the tree: {mangoTree1.number_of_mangoes}\")\n",
        "print(\"=====================================\")\n",
        "mangoTree2= MangoTree(\"Amrapali\")\n",
        "# Display the details of the mango tree\n",
        "print(\"Mango Tree Details:\")\n",
        "print(f\"Variety: {mangoTree2.variety}\")\n",
        "print(f\"Height: {mangoTree2.height} meter(s)\")\n",
        "print(f\"Number of mangoes on the tree: {mangoTree2.number_of_mangoes}\")\n",
        "print(\"=====================================\")\n",
        "print(\"Updated details after 5 years:\")\n",
        "year=5\n",
        "mangoTree1.height+=year*3\n",
        "mangoTree2.height+=year*3\n",
        "mangoTree1.number_of_mangoes=mangoTree1.height*10\n",
        "mangoTree2.number_of_mangoes=mangoTree2.height*15\n",
        "print(\"=====================================\")\n",
        "print(\"Mango Tree Details:\")\n",
        "print(f\"Variety: {mangoTree1.variety}\")\n",
        "print(f\"Height: {mangoTree1.height} meter(s)\")\n",
        "print(f\"Number of mangoes on the tree: {mangoTree1.number_of_mangoes}\")\n",
        "print(\"=====================================\")\n",
        "\n",
        "# Display the details of the mango tree\n",
        "print(\"Mango Tree Details:\")\n",
        "print(f\"Variety: {mangoTree2.variety}\")\n",
        "print(f\"Height: {mangoTree2.height} meter(s)\")\n",
        "print(f\"Number of mangoes on the tree: {mangoTree2.number_of_mangoes}\")\n",
        "print(\"=====================================\")"
      ],
      "metadata": {
        "colab": {
          "base_uri": "https://localhost:8080/"
        },
        "id": "RWiPF6vBYd-P",
        "outputId": "7fa840f2-7b92-43bf-f5bf-5a05140dd197"
      },
      "execution_count": null,
      "outputs": [
        {
          "output_type": "stream",
          "name": "stdout",
          "text": [
            "=====================================\n",
            "Mango Tree Details:\n",
            "Variety: Gopalbhog\n",
            "Height: 1 meter(s)\n",
            "Number of mangoes on the tree: 0\n",
            "=====================================\n",
            "Mango Tree Details:\n",
            "Variety: Amrapali\n",
            "Height: 1 meter(s)\n",
            "Number of mangoes on the tree: 0\n",
            "=====================================\n",
            "Updated details after 5 years:\n",
            "=====================================\n",
            "Mango Tree Details:\n",
            "Variety: Gopalbhog\n",
            "Height: 16 meter(s)\n",
            "Number of mangoes on the tree: 160\n",
            "=====================================\n",
            "Mango Tree Details:\n",
            "Variety: Amrapali\n",
            "Height: 16 meter(s)\n",
            "Number of mangoes on the tree: 240\n",
            "=====================================\n"
          ]
        }
      ]
    },
    {
      "cell_type": "code",
      "source": [
        "#task 3\n",
        "class Contacts:\n",
        "  def __init__(self,name,num):\n",
        "    self.names=name\n",
        "    self.numbers=num\n",
        "    self.contactDict={}\n",
        "    if len(self.names)==len(self.numbers):\n",
        "       for i in range(0,len(self.names)):\n",
        "\n",
        "           self.contactDict[names[i]]=self.numbers[i]\n",
        "       print(\"Contacts saved successfully.\")\n",
        "\n",
        "    else:\n",
        "      print(\"Contacts cannot be saved. Length Mismatch!\")\n",
        "\n",
        "names = [\"Emergency\", \"Father\", \"Bestie\"]\n",
        "numbers = [\"999\", \"01xx23\", \"01xx87\", \"01xx65\", \"01xx43\"]\n",
        "\n",
        "m1 = Contacts(names, numbers)\n",
        "print(\"Saved Contacts:\", m1.contactDict)\n",
        "print(\"---------------------------------------------\")\n",
        "\n",
        "names.append(\"Mother\")\n",
        "numbers.pop()\n",
        "\n",
        "m2 = Contacts(names, numbers)\n",
        "print(\"Saved Contacts:\", m2.contactDict)\n",
        "print()\n",
        "print(\"after appending mother and removing the last number, if we write the following line:m1 = Contacts(names, numbers)the contacts will be saved\")\n"
      ],
      "metadata": {
        "colab": {
          "base_uri": "https://localhost:8080/"
        },
        "id": "lTb3xDdHatz2",
        "outputId": "8df16566-2f49-452f-ca23-e241ec921a52"
      },
      "execution_count": null,
      "outputs": [
        {
          "output_type": "stream",
          "name": "stdout",
          "text": [
            "Contacts cannot be saved. Length Mismatch!\n",
            "Saved Contacts: {}\n",
            "---------------------------------------------\n",
            "Contacts saved successfully.\n",
            "Saved Contacts: {'Emergency': '999', 'Father': '01xx23', 'Bestie': '01xx87', 'Mother': '01xx65'}\n",
            "\n",
            "after appending mother and removing the last number, if we write the following line:m1 = Contacts(names, numbers)the contacts will be saved\n"
          ]
        }
      ]
    },
    {
      "cell_type": "code",
      "source": [
        "#task 4\n",
        "class Student:\n",
        "  def __init__(self,name,cgpa,courses_taken):\n",
        "    self.name=name\n",
        "    self.cgpa=cgpa\n",
        "    self.courses_taken=courses_taken\n",
        "    if self.cgpa<2.00:\n",
        "      self.student_status=\"Probation\"\n",
        "      if 1<self.courses_taken<=2:\n",
        "        print(f\"Study hard this time {self.name}.\")\n",
        "        self.advising_status=\"Approve\"\n",
        "      else:\n",
        "        print(f\"Sorry, {self.name}, you are on probation and cannot take more than 2 courses.\")\n",
        "        self.advising_status=\"Denied\"\n",
        "        self.courses_taken=0\n",
        "    elif self.cgpa>=2.00:\n",
        "      self.student_status=\"Regular\"\n",
        "      if 3<=self.courses_taken<=5:\n",
        "        print(f\"All the best, {self.name}, for upcomming semester.\")\n",
        "        self.advising_status=\"Approve\"\n",
        "      else:\n",
        "        print(f\"Hello {self.name}, You are a regular student and have to take between 3 to 5 courses.\")\n",
        "        self.advising_status=\"Denied\"\n",
        "        self.courses_taken=0\n",
        "\n",
        "s1 = Student(\"Clark\", 3.45, 4)\n",
        "print(f\"Name: {s1.name}\\nCGPA: {s1.cgpa}\\nCourses Taken: {s1.courses_taken}\")\n",
        "print(f\"Student Status: {s1.student_status}\\nAdvising Status: {s1.advising_status}\")\n",
        "print(\"--------------------------------------------------------------------------------\")\n",
        "s2 = Student(\"Barry\", 1.93, 2)\n",
        "print(f\"Name: {s2.name}\")\n",
        "print(f\"Student Status: {s2.student_status}\\nAdvising Status: {s2.advising_status}\")\n",
        "print(\"--------------------------------------------------------------------------------\")\n",
        "s3 = Student(\"Diana\", 2.91, 2)\n",
        "print(f\"Advising Status: {s3.advising_status}\\nCourses Taken: {s3.courses_taken}\")\n",
        "print(\"--------------------------------------------------------------------------------\")\n",
        "s4 = Student(\"Bruce\", 1.52, 5)\n",
        "print(f\"Advising Status: {s4.advising_status}\\nCourses Taken: {s4.courses_taken}\")\n"
      ],
      "metadata": {
        "colab": {
          "base_uri": "https://localhost:8080/"
        },
        "id": "vqg2tKFvlBRO",
        "outputId": "7a6f4458-0a60-4157-88fd-630a7c10baa3"
      },
      "execution_count": null,
      "outputs": [
        {
          "output_type": "stream",
          "name": "stdout",
          "text": [
            "All the best, Clark, for upcomming semester.\n",
            "Name: Clark\n",
            "CGPA: 3.45\n",
            "Courses Taken: 4\n",
            "Student Status: Regular\n",
            "Advising Status: Approve\n",
            "--------------------------------------------------------------------------------\n",
            "Study hard this time Barry.\n",
            "Name: Barry\n",
            "Student Status: Probation\n",
            "Advising Status: Approve\n",
            "--------------------------------------------------------------------------------\n",
            "Hello Diana, You are a regular student and have to take between 3 to 5 courses.\n",
            "Advising Status: Denied\n",
            "Courses Taken: 0\n",
            "--------------------------------------------------------------------------------\n",
            "Sorry, Bruce, you are on probation and cannot take more than 2 courses.\n",
            "Advising Status: Denied\n",
            "Courses Taken: 0\n"
          ]
        }
      ]
    },
    {
      "cell_type": "code",
      "source": [
        "#task5\n",
        "import datetime\n",
        "class Book:\n",
        "  def __init__(self,name,author,year_of_publication):\n",
        "    print(\"Checking the book.\")\n",
        "    self.author=author\n",
        "    self.name=name\n",
        "    self.year_of_publication=year_of_publication\n",
        "    today=datetime.date.today()\n",
        "    year=today.year\n",
        "\n",
        "    if int(year)-(int(self.year_of_publication))<100:\n",
        "      self.status=\"This book is Rejected. The book is not antique enough.\"\n",
        "    elif 100<=year-self.year_of_publication<200:\n",
        "      self.status=\"This book is Accepted. The book is stored on floor: 0.\"\n",
        "\n",
        "    elif 200<=year-self.year_of_publication<400:\n",
        "      self.status=\"This book is Accepted. The book is stored on floor: 1.\"\n",
        "\n",
        "    elif year-self.year_of_publication>=400:\n",
        "      self.status=\"This book is Accepted. The book is stored on floor: 2.\"\n",
        "\n",
        "\n",
        "book1= Book('The Act', 'Ferguson', 1924)\n",
        "print(f\"{book1.author} wrote the book '{book1.name}'.\")\n",
        "print(f\"This book was published in {book1.year_of_publication}.\")\n",
        "print(f\"This book is {book1.status}\")\n",
        "print(\"-------------------------------------\")\n",
        "book2= Book('Flame', 'Nolan', 1932)\n",
        "print(f\"{book2.author} wrote the book '{book2.name}'.\")\n",
        "print(f\"This book was published in {book2.year_of_publication}.\")\n",
        "print(f\"This book is {book2.status}\")\n",
        "print(\"-------------------------------------\")\n",
        "book3= Book('Norms', 'Alfred', 1832)\n",
        "print(f\"{book3.author} wrote the book '{book3.name}'.\")\n",
        "print(f\"This book was published in {book3.year_of_publication}.\")\n",
        "print(f\"This book is {book3.status}\")\n",
        "print(\"-------------------------------------\")\n",
        "book4= Book('Apex', 'Samson', 1923)\n",
        "print(f\"{book4.author} wrote the book '{book4.name}'.\")\n",
        "print(f\"This book was published in {book4.year_of_publication}.\")\n",
        "print(f\"This book is {book4.status}\")\n",
        "print(\"-------------------------------------\")\n",
        "book5= Book('Habitat', 'Eden', 1723)\n",
        "print(f\"{book5.author} wrote the book '{book5.name}'.\")\n",
        "print(f\"This book was published in {book5.year_of_publication}.\")\n",
        "print(f\"This book is {book5.status}\")\n",
        "print(\"-------------------------------------\")\n",
        "book6= Book('Apocalypto', 'Menez', 1603)\n",
        "print(f\"{book6.author} wrote the book '{book6.name}'.\")\n",
        "print(f\"This book was published in {book6.year_of_publication}.\")\n",
        "print(f\"This book is {book6.status}\")\n"
      ],
      "metadata": {
        "colab": {
          "base_uri": "https://localhost:8080/"
        },
        "id": "MJlVciSTrq5I",
        "outputId": "4142a28f-c51e-483e-d847-7a4cabcb88c9"
      },
      "execution_count": null,
      "outputs": [
        {
          "output_type": "stream",
          "name": "stdout",
          "text": [
            "Checking the book.\n",
            "Ferguson wrote the book 'The Act'.\n",
            "This book was published in 1924.\n",
            "This book is This book is Rejected. The book is not antique enough.\n",
            "-------------------------------------\n",
            "Checking the book.\n",
            "Nolan wrote the book 'Flame'.\n",
            "This book was published in 1932.\n",
            "This book is This book is Rejected. The book is not antique enough.\n",
            "-------------------------------------\n",
            "Checking the book.\n",
            "Alfred wrote the book 'Norms'.\n",
            "This book was published in 1832.\n",
            "This book is This book is Accepted. The book is stored on floor: 0.\n",
            "-------------------------------------\n",
            "Checking the book.\n",
            "Samson wrote the book 'Apex'.\n",
            "This book was published in 1923.\n",
            "This book is This book is Accepted. The book is stored on floor: 0.\n",
            "-------------------------------------\n",
            "Checking the book.\n",
            "Eden wrote the book 'Habitat'.\n",
            "This book was published in 1723.\n",
            "This book is This book is Accepted. The book is stored on floor: 1.\n",
            "-------------------------------------\n",
            "Checking the book.\n",
            "Menez wrote the book 'Apocalypto'.\n",
            "This book was published in 1603.\n",
            "This book is This book is Accepted. The book is stored on floor: 2.\n"
          ]
        }
      ]
    },
    {
      "cell_type": "code",
      "source": [
        "import datetime\n",
        "today=datetime.date.today()\n",
        "year=today.year\n",
        "print(year)"
      ],
      "metadata": {
        "colab": {
          "base_uri": "https://localhost:8080/"
        },
        "id": "Z4bpkyH0t7oC",
        "outputId": "415d75ae-eca8-44ca-b0ff-382c391c1424"
      },
      "execution_count": 1,
      "outputs": [
        {
          "output_type": "stream",
          "name": "stdout",
          "text": [
            "2023\n"
          ]
        }
      ]
    }
  ]
}