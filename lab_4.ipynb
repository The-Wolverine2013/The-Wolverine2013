{
  "nbformat": 4,
  "nbformat_minor": 0,
  "metadata": {
    "colab": {
      "provenance": []
    },
    "kernelspec": {
      "name": "python3",
      "display_name": "Python 3"
    },
    "language_info": {
      "name": "python"
    }
  },
  "cells": [
    {
      "cell_type": "code",
      "source": [
        "#task 1\n",
        "class Customer:\n",
        "  #count=0\n",
        "  def __init__(self):\n",
        "    print(\"Welcome to ABC Memorial Park\")\n",
        "    self.count=0\n",
        "    self.total=0\n",
        "  def buyTicket(self,name,year):\n",
        "    if self.count>=3:\n",
        "      print(\"You can't buy more than {} tickets\".format(self.count))\n",
        "    else:\n",
        "      print(f\"Successfully purchased a ticket for {name}!\")\n",
        "      self.count+=1\n",
        "      if year>10:\n",
        "        self.total+=100\n",
        "      else:\n",
        "        self.total+=50\n",
        "  def showDetails(self):\n",
        "      print(\"Amount of tickets:\",self.count)\n",
        "      print(f\"Total price:{self.total} Taka\")\n",
        "print('1-------------------------')\n",
        "customer1 = Customer()\n",
        "customer1.buyTicket('Bob', 23)\n",
        "customer1.buyTicket('Henry', 7)\n",
        "customer1.buyTicket('Alexa', 30)\n",
        "customer1.buyTicket('Jonas', 43)\n",
        "print('3-------------------------')\n",
        "#customer1.showDetails()\n",
        "customer1.showDetails()\n",
        "print('4-------------------------')\n",
        "customer2 = Customer()\n",
        "print('5-------------------------')\n",
        "customer2.buyTicket('Harry', 60)\n",
        "customer2.buyTicket('Tomas', 28)\n",
        "print('6-------------------------')\n",
        "customer2.showDetails()"
      ],
      "metadata": {
        "colab": {
          "base_uri": "https://localhost:8080/"
        },
        "id": "M5wYMBuPygDd",
        "outputId": "97919741-9a1c-4988-d2a7-ccaa3061f8d6"
      },
      "execution_count": null,
      "outputs": [
        {
          "output_type": "stream",
          "name": "stdout",
          "text": [
            "1-------------------------\n",
            "Welcome to ABC Memorial Park\n",
            "Successfully purchased a ticket for Bob!\n",
            "Successfully purchased a ticket for Henry!\n",
            "Successfully purchased a ticket for Alexa!\n",
            "You can't buy more than 3 tickets\n",
            "3-------------------------\n",
            "Amount of tickets: 3\n",
            "Total price:250 Taka\n",
            "4-------------------------\n",
            "Welcome to ABC Memorial Park\n",
            "5-------------------------\n",
            "Successfully purchased a ticket for Harry!\n",
            "Successfully purchased a ticket for Tomas!\n",
            "6-------------------------\n",
            "Amount of tickets: 2\n",
            "Total price:200 Taka\n"
          ]
        }
      ]
    },
    {
      "cell_type": "code",
      "source": [
        "#task 2\n",
        "class SentenceAnalyzer :\n",
        "    def __init__(self , sen1=\"\") :\n",
        "        self.sentence=sen1\n",
        "    def set_sentence (self , sen2) :\n",
        "        self.sentence= sen2\n",
        "    def get_word_count (self , min_num=None) :\n",
        "       list1=self.sentence.split(\" \")\n",
        "       similar_word=0\n",
        "       word_count=0\n",
        "       for j in list1 :\n",
        "            count=0\n",
        "            word_count+=1\n",
        "            for k in j :\n",
        "                count+=1\n",
        "            if min_num !=None :\n",
        "                if count==min_num :\n",
        "                    similar_word+=1\n",
        "       if min_num != None :\n",
        "            print(f\"Number of words with {min_num} charecters in the sentence: {similar_word}\")\n",
        "       else :\n",
        "            print(f\"Number of words in the sentence {word_count}\")\n",
        "analyzer1 = SentenceAnalyzer()\n",
        "analyzer1.set_sentence(\"That's an easy one\")\n",
        "print(\"1--------------------------\")\n",
        "analyzer1.get_word_count()\n",
        "print(\"2--------------------------\")\n",
        "analyzer2 = SentenceAnalyzer(\"Like I said it's easy\")\n",
        "\n",
        "\n",
        "print(\"3--------------------------\")\n",
        "analyzer2.get_word_count()\n",
        "\n",
        "\n",
        "print(\"4--------------------------\")\n",
        "analyzer2.get_word_count(4)\n",
        "print(\"5--------------------------\")\n",
        "analyzer1.get_word_count(5)"
      ],
      "metadata": {
        "colab": {
          "base_uri": "https://localhost:8080/"
        },
        "id": "35CfkgI6wuf-",
        "outputId": "56386b80-1c25-49b0-be3b-a4ab0f5f6e86"
      },
      "execution_count": null,
      "outputs": [
        {
          "output_type": "stream",
          "name": "stdout",
          "text": [
            "1--------------------------\n",
            "Number of words in the sentence 4\n",
            "2--------------------------\n",
            "3--------------------------\n",
            "Number of words in the sentence 5\n",
            "4--------------------------\n",
            "Number of words with 4 charecters in the sentence: 4\n",
            "5--------------------------\n",
            "Number of words with 5 charecters in the sentence: 0\n"
          ]
        }
      ]
    },
    {
      "cell_type": "code",
      "source": [
        "#task 3\n",
        "class Student:\n",
        "  def __init__(self,name,cgpa,credit=9,dept=\"CSE\"):\n",
        "     self.name=name\n",
        "     self.cgpa=cgpa\n",
        "     self.credit=credit\n",
        "     self.dept=dept\n",
        "  def checkScholarshipEligibility(self):\n",
        "      if self.cgpa>3.7 and self.credit>10:\n",
        "           print(f\"{self.name} is eligible for Merit-based scholarship.\")\n",
        "      elif self.cgpa>=3.5 and self.cgpa<3.7 and self.credit>10:\n",
        "           print(f\"{self.name} is eligible for Need-based scholarship.\")\n",
        "      elif self.cgpa<3.5:\n",
        "           print(f\"{self.name} is not eligible for scholarship\")\n",
        "      elif self.credit<10:\n",
        "           print(f\"{self.name} is not eligible for scholarship\")\n",
        "  def showDetails(self):\n",
        "      print(\"Name:\",self.name)\n",
        "      print(\"Department:\",self.dept)\n",
        "      print(\"Number of Credits:\",self.credit)\n",
        "      if self.cgpa>3.7 and self.credit>10:\n",
        "         print(\"Scholarship Status: Merit-based scholarship\")\n",
        "      elif self.cgpa>=3.5 and self.cgpa<3.7 and self.credit>10:\n",
        "         print(\"Scholarship Status: Need-based scholarship\")\n",
        "      elif self.cgpa<3.5:\n",
        "         print(\"Scholarship Status: No scholarship\")\n",
        "      elif self.credit<10:\n",
        "         print(\"Scholarship Status: No scholarship\")\n",
        "print('--------------------------')\n",
        "std1 = Student(\"Alif\",3.99,12)\n",
        "print('--------------------------')\n",
        "std1.checkScholarshipEligibility()\n",
        "print('--------------------------')\n",
        "std1.showDetails()\n",
        "print('--------------------------')\n",
        "std2 = Student(\"Mim\",3.4)\n",
        "std3 = Student(\"Henry\",3.5,15,\"BBA\")\n",
        "print('--------------------------')\n",
        "std2.checkScholarshipEligibility()\n",
        "print('--------------------------')\n",
        "std3.checkScholarshipEligibility()\n",
        "print('--------------------------')\n",
        "std2.showDetails()\n",
        "print('--------------------------')\n",
        "std3.showDetails()\n",
        "print('--------------------------')\n",
        "std4 = Student(\"Bob\",4,6,\"CSE\")\n",
        "print('--------------------------')\n",
        "std4.checkScholarshipEligibility()\n",
        "print('--------------------------')\n",
        "std4.showDetails()\n"
      ],
      "metadata": {
        "colab": {
          "base_uri": "https://localhost:8080/"
        },
        "id": "u7Sv7KSEBbal",
        "outputId": "13fd9705-d4fe-42d0-a0ee-17014e87c18a"
      },
      "execution_count": null,
      "outputs": [
        {
          "output_type": "stream",
          "name": "stdout",
          "text": [
            "--------------------------\n",
            "--------------------------\n",
            "Alif is eligible for Merit-based scholarship.\n",
            "--------------------------\n",
            "Name: Alif\n",
            "Department: CSE\n",
            "Number of Credits: 12\n",
            "Scholarship Status: Merit-based scholarship\n",
            "--------------------------\n",
            "--------------------------\n",
            "Mim is not eligible for scholarship\n",
            "--------------------------\n",
            "Henry is eligible for Need-based scholarship.\n",
            "--------------------------\n",
            "Name: Mim\n",
            "Department: CSE\n",
            "Number of Credits: 9\n",
            "Scholarship Status: No scholarship\n",
            "--------------------------\n",
            "Name: Henry\n",
            "Department: BBA\n",
            "Number of Credits: 15\n",
            "Scholarship Status: Need-based scholarship\n",
            "--------------------------\n",
            "--------------------------\n",
            "Bob is not eligible for scholarship\n",
            "--------------------------\n",
            "Name: Bob\n",
            "Department: CSE\n",
            "Number of Credits: 6\n",
            "Scholarship Status: No scholarship\n"
          ]
        }
      ]
    },
    {
      "cell_type": "code",
      "source": [
        "#task 4\n",
        "class Author:\n",
        "    def __init__(self, name=None):\n",
        "        self.name = name\n",
        "        self.books = {}\n",
        "\n",
        "    def setName(self, name):\n",
        "        self.name = name\n",
        "\n",
        "    def addBook(self, title, genre):\n",
        "        if self.name is None:\n",
        "            print(\"A book cannot be added without an author name\")\n",
        "            #return\n",
        "        if genre not in self.books:\n",
        "            self.books[genre] = []\n",
        "        self.books[genre].append(title)\n",
        "\n",
        "    def printDetail(self):\n",
        "        print(\"Number of Book(s):\", sum(len(books) for books in self.books.values()))\n",
        "        print(\"Author Name:\", self.name)\n",
        "        for genre, books in self.books.items():\n",
        "            print(genre + \":\", \", \".join(books))\n",
        "            #print(\"=================================\")\n",
        "a1 = Author()\n",
        "print(\"=================================\")\n",
        "a1.addBook(\"Ice\", \"Science Fiction\")\n",
        "print(\"=================================\")\n",
        "a1.setName(\"Anna Kavan\")\n",
        "a1.addBook(\"Ice\", \"Science Fiction\")\n",
        "a1.printDetail()\n",
        "print(\"=================================\")\n",
        "a2 = Author(\"Humayun Ahmed\")\n",
        "a2.addBook(\"Onnobhubon\",\"Science Fiction\")\n",
        "a2.addBook(\"Megher Upor Bari\", \"Horror\")\n",
        "print(\"=================================\")\n",
        "a2.printDetail()\n",
        "a2.addBook(\"Ireena\", \"Science Fiction\")\n",
        "print(\"=================================\")\n",
        "a2.printDetail()\n",
        "print(\"=================================\")\n",
        "\n"
      ],
      "metadata": {
        "colab": {
          "base_uri": "https://localhost:8080/"
        },
        "id": "C8Sg2PsbZrkk",
        "outputId": "958464de-87d9-4bc3-c452-6de5ef974215"
      },
      "execution_count": null,
      "outputs": [
        {
          "output_type": "stream",
          "name": "stdout",
          "text": [
            "=================================\n",
            "A book cannot be added without an author name\n",
            "=================================\n",
            "Number of Book(s): 2\n",
            "Author Name: Anna Kavan\n",
            "Science Fiction: Ice, Ice\n",
            "=================================\n",
            "=================================\n",
            "Number of Book(s): 2\n",
            "Author Name: Humayun Ahmed\n",
            "Science Fiction: Onnobhubon\n",
            "Horror: Megher Upor Bari\n",
            "=================================\n",
            "Number of Book(s): 3\n",
            "Author Name: Humayun Ahmed\n",
            "Science Fiction: Onnobhubon, Ireena\n",
            "Horror: Megher Upor Bari\n",
            "=================================\n"
          ]
        }
      ]
    },
    {
      "cell_type": "code",
      "source": [
        "#task 5\n",
        "class TaxiLagbe:\n",
        "    def __init__(self, taxi_number, city):\n",
        "        self.taxi_number = taxi_number\n",
        "        self.city = city\n",
        "        self.passengers = []\n",
        "        self.total_fare = 0\n",
        "    def addPassenger(self, *passengers):\n",
        "        for passenger in passengers:\n",
        "            if len(self.passengers) < 4:\n",
        "                last_name, fare = passenger.split('_')\n",
        "                self.passengers.append(last_name)\n",
        "                self.total_fare += int(fare)\n",
        "                print(f\"Dear {last_name}! Welcome to TaxiLagbe.\")\n",
        "            else:\n",
        "                print('Taxi Full! No more passengers can be added.')\n",
        "    def printDetails(self):\n",
        "        print(f\"Trip info for Taxi number: {self.taxi_number}\")\n",
        "        print(f\"This taxi can only cover the {self.city} area.\")\n",
        "        print(f\"Total passengers: {len(self.passengers)}\")\n",
        "        print(\"Passenger lists:\")\n",
        "        if self.passengers:\n",
        "            for passenger in self.passengers:\n",
        "                print(passenger, end=', ')\n",
        "            print()\n",
        "        else:\n",
        "            print(\"No passengers in the taxi.\")\n",
        "        print(f\"Total collected fare: {self.total_fare} Taka\")\n",
        "\n",
        "taxi1 = TaxiLagbe('1010-01', 'Dhaka')\n",
        "print('-------------------------------')\n",
        "taxi1.addPassenger('Walker_100', 'Wood_200','Matt_100')\n",
        "taxi1.addPassenger('Wilson_105')\n",
        "print('-------------------------------')\n",
        "taxi1.printDetails()\n",
        "print('-------------------------------')\n",
        "taxi1.addPassenger('Karen_200')\n",
        "print('-------------------------------')\n",
        "#taxi1.printDetails()\n",
        "print('-------------------------------')\n",
        "taxi2 = TaxiLagbe('1010-02', 'Khulna')\n",
        "taxi2.addPassenger('Ronald_115', 'Parker_215')\n",
        "print('-------------------------------')\n",
        "#taxi2.printDetails()\n"
      ],
      "metadata": {
        "colab": {
          "base_uri": "https://localhost:8080/"
        },
        "id": "Wa0OiM-mPpkM",
        "outputId": "726708f3-e7d3-4079-efdf-0bd8b822db5d"
      },
      "execution_count": null,
      "outputs": [
        {
          "output_type": "stream",
          "name": "stdout",
          "text": [
            "-------------------------------\n",
            "Dear Walker! Welcome to TaxiLagbe.\n",
            "Dear Wood! Welcome to TaxiLagbe.\n",
            "Dear Matt! Welcome to TaxiLagbe.\n",
            "Dear Wilson! Welcome to TaxiLagbe.\n",
            "-------------------------------\n",
            "Trip info for Taxi number: 1010-01\n",
            "This taxi can only cover the Dhaka area.\n",
            "Total passengers: 4\n",
            "Passenger lists:\n",
            "Walker, Wood, Matt, Wilson, \n",
            "Total collected fare: 505 Taka\n",
            "-------------------------------\n",
            "Taxi Full! No more passengers can be added.\n",
            "-------------------------------\n",
            "-------------------------------\n",
            "Dear Ronald! Welcome to TaxiLagbe.\n",
            "Dear Parker! Welcome to TaxiLagbe.\n",
            "-------------------------------\n"
          ]
        }
      ]
    },
    {
      "cell_type": "code",
      "source": [
        "arg=('Walker_100', 'Wood_200','Matt_100')\n",
        "list1=[]\n",
        "list2=[]\n",
        "for i in arg:\n",
        "  r=(i.split(\"_\"))\n",
        "  list1.append(r[0])\n",
        "  list2.append((r[1]))\n",
        "  #print(r)\n",
        "print(list1)\n",
        "print(list2)\n",
        "for i in list1:\n",
        "  print(f\"Dear {i}! Welcome to TaxiLagbe\")\n"
      ],
      "metadata": {
        "colab": {
          "base_uri": "https://localhost:8080/"
        },
        "id": "4rLKQ4BxWavq",
        "outputId": "cce8702a-03c3-4d4e-de2d-af45e896a6e4"
      },
      "execution_count": null,
      "outputs": [
        {
          "output_type": "stream",
          "name": "stdout",
          "text": [
            "['Walker', 'Wood', 'Matt']\n",
            "['100', '200', '100']\n",
            "Dear Walker! Welcome to TaxiLagbe\n",
            "Dear Wood! Welcome to TaxiLagbe\n",
            "Dear Matt! Welcome to TaxiLagbe\n"
          ]
        }
      ]
    },
    {
      "cell_type": "code",
      "source": [
        "class Test3:\n",
        "    def __init__(self):\n",
        "        self.sum, self.y = 0, 0\n",
        "    def methodA(self):\n",
        "        x, y = 2, 3\n",
        "        msg = [0]\n",
        "        msg[0] = 3\n",
        "        y = self.y + msg[0]\n",
        "        self.methodB(msg, msg[0])\n",
        "        x = self.y + msg[0]\n",
        "        self.sum = x + y + msg[0]\n",
        "        print(x, y, self.sum)\n",
        "    def methodB(self, mg2, mg1):\n",
        "        x = 0\n",
        "        self.y = self.y + mg2[0]\n",
        "        x = x + 33 + mg1\n",
        "        self.sum = self.sum + x + self.y\n",
        "        mg2[0] = self.y + mg1\n",
        "        mg1 = mg1 + x + 2\n",
        "        print(x, self.y, self.sum)\n",
        "\n",
        "t3 = Test3()\n",
        "t3.methodA()\n",
        "t3.methodA()\n",
        "t3.methodA()\n",
        "t3.methodA()\n"
      ],
      "metadata": {
        "colab": {
          "base_uri": "https://localhost:8080/"
        },
        "id": "stCi5iQatfmY",
        "outputId": "e68c12c4-41f6-4de5-ad7e-a1240f135fab"
      },
      "execution_count": null,
      "outputs": [
        {
          "output_type": "stream",
          "name": "stdout",
          "text": [
            "36 3 39\n",
            "9 3 18\n",
            "36 6 60\n",
            "15 6 30\n",
            "36 9 75\n",
            "21 9 42\n",
            "36 12 90\n",
            "27 12 54\n"
          ]
        }
      ]
    },
    {
      "cell_type": "markdown",
      "source": [
        "Task 1"
      ],
      "metadata": {
        "id": "G32gUxJYXnym"
      }
    },
    {
      "cell_type": "code",
      "source": [
        "class HackathonTeam :\n",
        "  def __init__ (self, *args) :\n",
        "    self.team_name= args[0]\n",
        "    list1=[]\n",
        "    for i in args :\n",
        "      list1.append(i)\n",
        "    list1=list1[1::]\n",
        "    self.info=list1\n",
        "  def information(self) :\n",
        "    print(f\"Team name {self.team_name} \\nParticipants: \")\n",
        "    for i in self.info:\n",
        "      print(i)\n",
        "team_1 = HackathonTeam(\"Atlantean\", \"Aquaman\")\n",
        "team_1.information()\n",
        "\n",
        "\n",
        "print(\"=================\")\n",
        "\n",
        "\n",
        "team_2 = HackathonTeam(\"Avengers\", \"Ironman\", \"Thor\", \"Hulk\")\n",
        "team_2.information()\n",
        "\n",
        "\n",
        "print(\"=================\")\n",
        "\n",
        "\n",
        "team_3 = HackathonTeam(\"X-Men\", \"Storm\", \"Mystique\")\n",
        "team_3.information()\n"
      ],
      "metadata": {
        "colab": {
          "base_uri": "https://localhost:8080/"
        },
        "id": "pqgUY0FUXbhZ",
        "outputId": "7f83eaef-9ebb-4abd-b6ab-ec3e87440aeb"
      },
      "execution_count": null,
      "outputs": [
        {
          "output_type": "stream",
          "name": "stdout",
          "text": [
            "Team name Atlantean \n",
            "Participants: \n",
            "Aquaman\n",
            "=================\n",
            "Team name Avengers \n",
            "Participants: \n",
            "Ironman\n",
            "Thor\n",
            "Hulk\n",
            "=================\n",
            "Team name X-Men \n",
            "Participants: \n",
            "Storm\n",
            "Mystique\n"
          ]
        }
      ]
    },
    {
      "cell_type": "markdown",
      "source": [
        "Task 2"
      ],
      "metadata": {
        "id": "t4BIBIj6ZaCg"
      }
    },
    {
      "cell_type": "code",
      "source": [
        "class Foodie :\n",
        "  menu = {'Chicken Lollipop':15,'Beef Nugget':20,'Americano':180,'Red Velvet':150,'Prawn Tempura':80,'Saute Veg':200}\n",
        "  total_items=0\n",
        "  def __init__ (self, name) :\n",
        "    self.name=name\n",
        "  def order  (self, *args) :\n",
        "    for i in args\n"
      ],
      "metadata": {
        "id": "Tl9r8VEyZUzI"
      },
      "execution_count": null,
      "outputs": []
    }
  ]
}