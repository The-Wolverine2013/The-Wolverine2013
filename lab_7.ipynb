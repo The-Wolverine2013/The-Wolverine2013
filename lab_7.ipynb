{
  "nbformat": 4,
  "nbformat_minor": 0,
  "metadata": {
    "colab": {
      "provenance": []
    },
    "kernelspec": {
      "name": "python3",
      "display_name": "Python 3"
    },
    "language_info": {
      "name": "python"
    }
  },
  "cells": [
    {
      "cell_type": "code",
      "execution_count": null,
      "metadata": {
        "colab": {
          "base_uri": "https://localhost:8080/"
        },
        "id": "pp7jNK44gVEm",
        "outputId": "4d120709-a190-4004-9a0f-c9a12972795d"
      },
      "outputs": [
        {
          "output_type": "stream",
          "name": "stdout",
          "text": [
            "Odd!!\n"
          ]
        }
      ],
      "source": [
        "#task1\n",
        "def even_checker(a):\n",
        "  if a%2==0:\n",
        "    print(\"Even!!\")\n",
        "  else:\n",
        "    print(\"Odd!!\")\n",
        "even_checker(5)"
      ]
    },
    {
      "cell_type": "code",
      "source": [
        "#task 2\n",
        "def fibonacci(a):\n",
        "  first=0\n",
        "  second=1\n",
        "  third=0\n",
        "  while third<=a:\n",
        "    print (third, end=\" \")\n",
        "    first=second\n",
        "    second=third\n",
        "    third=first+third\n",
        "fibonacci(5)\n",
        "     \n"
      ],
      "metadata": {
        "colab": {
          "base_uri": "https://localhost:8080/"
        },
        "id": "cQ0f-rvxgpA4",
        "outputId": "a1bdce03-a48b-4ced-9d10-91477c4d8eae"
      },
      "execution_count": 24,
      "outputs": [
        {
          "output_type": "stream",
          "name": "stdout",
          "text": [
            "0 1 1 2 3 5 "
          ]
        }
      ]
    },
    {
      "cell_type": "code",
      "source": [
        "#Task-3\n",
        "def foo_moo(number):\n",
        "    if number % 2 == 0 and number % 3 == 0:\n",
        "        return \"FooMoo\"\n",
        "    elif number % 2 == 0:\n",
        "        return \"Foo\"\n",
        "    elif number % 3 == 0:\n",
        "        return \"Moo\"\n",
        "    else:\n",
        "        return \"Boo\"\n",
        "num = int(input(\"Enter a number: \"))\n",
        "result = foo_moo(num)\n",
        "print(result)"
      ],
      "metadata": {
        "colab": {
          "base_uri": "https://localhost:8080/"
        },
        "id": "ywwKsDIWhG26",
        "outputId": "b4e894f9-1229-4b7a-9bb6-bf6e8a613b1a"
      },
      "execution_count": null,
      "outputs": [
        {
          "output_type": "stream",
          "name": "stdout",
          "text": [
            "Enter a number: 5\n",
            "Boo\n"
          ]
        }
      ]
    },
    {
      "cell_type": "code",
      "source": [
        "#task 4\n",
        "def function_name(a):\n",
        "  up=0\n",
        "  low=0\n",
        "  for i in a:\n",
        "    if 97<=ord(i)<=122:\n",
        "      low+=1\n",
        "    elif 65<=ord(i)<=90:\n",
        "      up+=1\n",
        "  print(\"No. of Uppercase characters: {}\\nNo. of Lowercase Characters: {}\".format(up,low))\n",
        "function_name('HaRRy PotteR')"
      ],
      "metadata": {
        "colab": {
          "base_uri": "https://localhost:8080/"
        },
        "id": "bVvAUaJXhoQa",
        "outputId": "5095b3b7-22b2-468b-add1-37d82da545f5"
      },
      "execution_count": null,
      "outputs": [
        {
          "output_type": "stream",
          "name": "stdout",
          "text": [
            "No. of Uppercase characters: 5\n",
            "No. of Lowercase Characters: 6\n"
          ]
        }
      ]
    },
    {
      "cell_type": "code",
      "source": [
        "#task 5\n",
        "\n",
        "a=int(input(\"Please enter Age: \"))\n",
        "b=int(input(\"please enter Salary: \"))\n",
        "work=input(\"please enter Current Job:\").lower()\n",
        "def calculate_tax(age,salary,job):\n",
        "  if age<18 or job==\"president\" or salary<10000:\n",
        "    tax=0\n",
        "  elif salary>=10000 and salary<=20000:\n",
        "    tax=salary*.05\n",
        "  elif salary>20000:\n",
        "    tax=salary*.1  \n",
        "  return(tax)\n",
        "print(calculate_tax(a,b,work))\n",
        "     "
      ],
      "metadata": {
        "colab": {
          "base_uri": "https://localhost:8080/"
        },
        "id": "SmJJ3uJkiQw_",
        "outputId": "b68e06f7-ac86-4b20-c95e-1c6b5e3133fc"
      },
      "execution_count": null,
      "outputs": [
        {
          "output_type": "stream",
          "name": "stdout",
          "text": [
            "Please enter Age: 20\n",
            "please enter Salary: 22000\n",
            "please enter Current Job:assistant manager\n",
            "2200.0\n"
          ]
        }
      ]
    },
    {
      "cell_type": "code",
      "source": [
        "#task 6\n",
        "def function_name(days):\n",
        "  year=days//365\n",
        "  month=(days%365)//30\n",
        "  day= (days%365)%30\n",
        "  print(f\"{year} years, {month} months and {day} days\")\n",
        "function_name(int(input()))\n",
        "     "
      ],
      "metadata": {
        "colab": {
          "base_uri": "https://localhost:8080/"
        },
        "id": "YRQ3zYOgj7Ym",
        "outputId": "a1fd747d-c8d1-4062-f620-0399f6a9a187"
      },
      "execution_count": null,
      "outputs": [
        {
          "output_type": "stream",
          "name": "stdout",
          "text": [
            "4330\n",
            "11 years, 10 months and 15 days\n"
          ]
        }
      ]
    },
    {
      "cell_type": "code",
      "source": [
        "#task 7\n",
        "t=int(input())\n",
        "def show_palindrome(a):\n",
        "  z=\"\"\n",
        "  for i in range (1,a):\n",
        "    z+=str(i)\n",
        "  for i in range (a,0,-1):\n",
        "    z+=str(i)\n",
        "  return(int(z))\n",
        "show_palindrome(t)\n"
      ],
      "metadata": {
        "colab": {
          "base_uri": "https://localhost:8080/"
        },
        "id": "1N9eCVJ9j7xW",
        "outputId": "d50e0068-ff45-4ee6-aca9-fde5e911e7bd"
      },
      "execution_count": null,
      "outputs": [
        {
          "name": "stdout",
          "output_type": "stream",
          "text": [
            "5\n"
          ]
        },
        {
          "output_type": "execute_result",
          "data": {
            "text/plain": [
              "123454321"
            ]
          },
          "metadata": {},
          "execution_count": 11
        }
      ]
    },
    {
      "cell_type": "code",
      "source": [
        "#task 8\n",
        "def show_palindrome(a):\n",
        "  z=\"\"\n",
        "  for i in range (1,a):\n",
        "    z+=str(i)+\" \"\n",
        "  for i in range (a,0,-1):\n",
        "    z+=str(i)+\" \"\n",
        "  return(z)\n",
        "x=int(input())\n",
        "z=x\n",
        "y=\"\"\n",
        "for i in range(1,x+1):\n",
        "    y=\"\"\n",
        "    for spc in range((x-i)*2):\n",
        "        y+=\" \"\n",
        "    y+=show_palindrome(i)\n",
        "    print(y)\n",
        "     "
      ],
      "metadata": {
        "colab": {
          "base_uri": "https://localhost:8080/"
        },
        "id": "kTRxaZ0OrV7-",
        "outputId": "805381fc-9706-415d-8929-96831a822c67"
      },
      "execution_count": null,
      "outputs": [
        {
          "output_type": "stream",
          "name": "stdout",
          "text": [
            "5\n",
            "        1 \n",
            "      1 2 1 \n",
            "    1 2 3 2 1 \n",
            "  1 2 3 4 3 2 1 \n",
            "1 2 3 4 5 4 3 2 1 \n"
          ]
        }
      ]
    },
    {
      "cell_type": "code",
      "source": [
        "#task 9\n",
        "import math\n",
        "a=float(input())\n",
        "def area_circumference_generator(num):\n",
        "  circum=2*math.pi*num\n",
        "  area=math.pi*(num**2)\n",
        "  return area,circum\n",
        "output=area_circumference_generator(a)\n",
        "print(output)\n",
        "print(f\"Area of the circle is {output[0]} and circumference is {output[1]}\")\n"
      ],
      "metadata": {
        "colab": {
          "base_uri": "https://localhost:8080/"
        },
        "id": "v0eZFncFuDap",
        "outputId": "5c463ade-64c7-4ce6-f20a-a41ba5d011e5"
      },
      "execution_count": 12,
      "outputs": [
        {
          "output_type": "stream",
          "name": "stdout",
          "text": [
            "1\n",
            "(3.141592653589793, 6.283185307179586)\n",
            "Area of the circle is 3.141592653589793 and circumference is 6.283185307179586\n"
          ]
        }
      ]
    },
    {
      "cell_type": "code",
      "source": [
        "#task 10\n",
        "def make_square(P):\n",
        "  a,b=P\n",
        "  adict={}\n",
        "  for i in range(a,b+1):\n",
        "    adict[i]=i**2\n",
        "  return adict\n",
        "print(make_square((1,3)))"
      ],
      "metadata": {
        "id": "ZwThySwG0U6x",
        "colab": {
          "base_uri": "https://localhost:8080/"
        },
        "outputId": "2d63b759-6ae8-4cad-ad52-f02b9b92cb54"
      },
      "execution_count": 16,
      "outputs": [
        {
          "output_type": "stream",
          "name": "stdout",
          "text": [
            "{1: 1, 2: 4, 3: 9}\n"
          ]
        }
      ]
    },
    {
      "cell_type": "code",
      "source": [
        "#11\n",
        "\n",
        "def rem_duplicate(s):\n",
        "  lst=[]\n",
        "  for i in s:\n",
        "    if i not in lst:\n",
        "      lst.append(i)\n",
        "  return lst\n",
        "print(tuple(rem_duplicate((\"Hi\", 1, 2, 3, 3, \"Hi\",'a', 'a', [1,2]))))"
      ],
      "metadata": {
        "colab": {
          "base_uri": "https://localhost:8080/"
        },
        "id": "uqRGJ8YIQSIa",
        "outputId": "2c7958aa-a0ed-4134-bb33-651f7f9ae8c7"
      },
      "execution_count": 17,
      "outputs": [
        {
          "output_type": "stream",
          "name": "stdout",
          "text": [
            "('Hi', 1, 2, 3, 'a', [1, 2])\n"
          ]
        }
      ]
    },
    {
      "cell_type": "code",
      "source": [
        "#Task-12\n",
        "def function_name(a):\n",
        "  lst=[]\n",
        "  for i in a:\n",
        "    if lst.count(i)<2:\n",
        "      lst.append(i)\n",
        "  rvm=len(a)-len(lst)\n",
        "  print(f\"Removed: {rvm}\")\n",
        "  return(lst)\n",
        "print(function_name(([1, 2, 3, 3, 3, 3, 4, 5, 8, 8])))"
      ],
      "metadata": {
        "id": "yefQQrBhQ9sf"
      },
      "execution_count": null,
      "outputs": []
    },
    {
      "cell_type": "code",
      "source": [
        "#Task-13\n",
        "def function_name(operator, operand1, operand2):\n",
        "    if operator == '+':\n",
        "        result = operand1 + operand2\n",
        "    elif operator == '-':\n",
        "        result = operand1 - operand2\n",
        "    elif operator == '*':\n",
        "        result = operand1 * operand2\n",
        "    elif operator == '/':\n",
        "        if operand2 == 0:\n",
        "            print(\"Error: division by zero\")\n",
        "            return None\n",
        "        result = operand1 / operand2\n",
        "    else:\n",
        "        print(\"Error: invalid operator\")\n",
        "        return None\n",
        "    return result\n",
        "operator = input(\"Enter operator (+, -, *, /): \")\n",
        "operand1 = float(input(\"Enter first operand: \"))\n",
        "operand2 = float(input(\"Enter second operand: \"))\n",
        "result = function_name(operator, operand1, operand2)\n",
        "if result is not None:\n",
        "    print(\"Result:\", result)"
      ],
      "metadata": {
        "colab": {
          "base_uri": "https://localhost:8080/"
        },
        "id": "xDhKB2bvQ_Mf",
        "outputId": "fb1e58d0-bcad-4309-ac34-da390900ca09"
      },
      "execution_count": 18,
      "outputs": [
        {
          "output_type": "stream",
          "name": "stdout",
          "text": [
            "Enter operator (+, -, *, /): +\n",
            "Enter first operand: 10\n",
            "Enter second operand: 20\n",
            "Result: 30.0\n"
          ]
        }
      ]
    },
    {
      "cell_type": "code",
      "source": [
        "#14\n",
        "\n",
        "sentence=input()\n",
        "position=int(input())\n",
        "\n",
        "def function_name(a,b):\n",
        "  out=a[0]\n",
        "  for i in range(1,len(a)):\n",
        "    if i%b!=0:\n",
        "      out+=a[i]\n",
        "  for j in range(1,len(a)):\n",
        "    if j%b==0:\n",
        "      out+=a[j]\n",
        "  return out\n",
        "print(function_name(sentence,position))\n"
      ],
      "metadata": {
        "colab": {
          "base_uri": "https://localhost:8080/"
        },
        "id": "bR3soIs1R3X2",
        "outputId": "3a63d37c-2202-4194-8f30-b45ca8060c99"
      },
      "execution_count": 22,
      "outputs": [
        {
          "output_type": "stream",
          "name": "stdout",
          "text": [
            "Python is easy to learn. I love python.\n",
            "6\n",
            "Pythonis eay to earn.I lov pythn. sl eo\n"
          ]
        }
      ]
    },
    {
      "cell_type": "code",
      "source": [
        "#task 15\n",
        "\n",
        "a=input().split(\",\")\n",
        "def food (a,b):\n",
        "  adict={\"Rice\":105,\"Potato\":20, \"Chicken\": 250, \"Beef\": 510, \"Oil\":85}\n",
        "  sum=0\n",
        "  for i in a:\n",
        "    sum+=adict[i]\n",
        "  if b==\"Dhanmondi\":\n",
        "    sum+=30\n",
        "  else:\n",
        "    sum+=70\n",
        "  return(sum)\n",
        "print(food(a, \"Mohakhali\"))"
      ],
      "metadata": {
        "colab": {
          "base_uri": "https://localhost:8080/"
        },
        "id": "J1dHNKGATNZ3",
        "outputId": "9aad7b53-7215-47ac-b811-3438f64af159"
      },
      "execution_count": 23,
      "outputs": [
        {
          "output_type": "stream",
          "name": "stdout",
          "text": [
            "Rice,Beef,Rice\n",
            "790\n"
          ]
        }
      ]
    }
  ]
}