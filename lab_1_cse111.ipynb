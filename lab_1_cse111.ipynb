{
  "nbformat": 4,
  "nbformat_minor": 0,
  "metadata": {
    "colab": {
      "provenance": []
    },
    "kernelspec": {
      "name": "python3",
      "display_name": "Python 3"
    },
    "language_info": {
      "name": "python"
    }
  },
  "cells": [
    {
      "cell_type": "markdown",
      "source": [
        "#Task 1"
      ],
      "metadata": {
        "id": "uGPXSJrYFkf9"
      }
    },
    {
      "cell_type": "code",
      "source": [
        "#string \n",
        "#task1\n",
        "x=input()\n",
        "y=0\n",
        "z=0\n",
        "for i in x:\n",
        "    if 65<=ord(i)<=90:\n",
        "        y+=1\n",
        "    else:\n",
        "        z+=1\n",
        "if y>z:\n",
        "    print(x.upper())\n",
        "else:\n",
        "    print(x.lower())"
      ],
      "metadata": {
        "colab": {
          "base_uri": "https://localhost:8080/"
        },
        "id": "ZmuKigbVdydA",
        "outputId": "d3f6d90d-544c-4d2e-f55c-3b3f772f2a45"
      },
      "execution_count": null,
      "outputs": [
        {
          "output_type": "stream",
          "name": "stdout",
          "text": [
            "HOusE\n",
            "HOUSE\n"
          ]
        }
      ]
    },
    {
      "cell_type": "code",
      "source": [
        "#1\n",
        "user=input()\n",
        "upper=0\n",
        "lower=0\n",
        "for i in user:\n",
        "  if 65<=ord(i)<=90:\n",
        "    upper+=1\n",
        "  elif 97<=ord(i)<=122:\n",
        "    lower+=1\n",
        "new=\"\"\n",
        "if upper>lower:\n",
        "  for i in user:\n",
        "    if 65<=ord(i)<=90:\n",
        "      new+=i\n",
        "    else:\n",
        "      new+=chr(ord(i)-32)\n",
        "elif upper==lower or upper<lower:\n",
        "  for i in user:\n",
        "    if 65<=ord(i)<=90:\n",
        "      new+=chr(ord(i)+32)\n",
        "    else:\n",
        "      new+=i\n",
        "print(new)"
      ],
      "metadata": {
        "colab": {
          "base_uri": "https://localhost:8080/"
        },
        "id": "ZlnHoiPheZJG",
        "outputId": "679d91b9-1b20-4e86-a7a9-3ffe4d496d7e"
      },
      "execution_count": null,
      "outputs": [
        {
          "output_type": "stream",
          "name": "stdout",
          "text": [
            "HOusE\n",
            "HOUSE\n"
          ]
        }
      ]
    },
    {
      "cell_type": "markdown",
      "source": [
        "#TASK 2"
      ],
      "metadata": {
        "id": "0A7rARLDF36c"
      }
    },
    {
      "cell_type": "code",
      "source": [
        "#Problem 2\n",
        "x=input()\n",
        "y=0\n",
        "z=(\"0123456789\")\n",
        "for i in x :\n",
        "    if i in z:\n",
        "        y+=1\n",
        "if y==0:\n",
        "    print(\"Word\")\n",
        "elif y == len(x):\n",
        "    print(\"Number\")\n",
        "else:\n",
        "    print(\"Mixed\")"
      ],
      "metadata": {
        "colab": {
          "base_uri": "https://localhost:8080/"
        },
        "id": "wSdOytPlfqC5",
        "outputId": "50942453-7fd9-4a11-8f69-0ff08cf5e56d"
      },
      "execution_count": null,
      "outputs": [
        {
          "output_type": "stream",
          "name": "stdout",
          "text": [
            "jhg231j213\n",
            "Mixed\n"
          ]
        }
      ]
    },
    {
      "cell_type": "code",
      "source": [
        "#2\n",
        "def char_checker(string):\n",
        "\n",
        "    ref_str = \"0123456789\"\n",
        "    len_str = len(string)\n",
        "    count = 0\n",
        "\n",
        "    for i in string:\n",
        "        if i in ref_str:\n",
        "            count += 1\n",
        "\n",
        "    if count == 0:\n",
        "        print(\"WORD\")\n",
        "    elif count < len_str:\n",
        "        print(\"MIXED\")\n",
        "    elif count == len_str:\n",
        "        print(\"NUMBER\")\n",
        "\n",
        "\n",
        "user_input = input()\n",
        "char_checker(user_input)"
      ],
      "metadata": {
        "id": "rmT1jgfWF9rk",
        "colab": {
          "base_uri": "https://localhost:8080/"
        },
        "outputId": "2187a839-76d0-49e1-ce2b-d013cdc00690"
      },
      "execution_count": null,
      "outputs": [
        {
          "output_type": "stream",
          "name": "stdout",
          "text": [
            "jhg231j213\n",
            "MIXED\n"
          ]
        }
      ]
    },
    {
      "cell_type": "markdown",
      "source": [
        "#Task 3"
      ],
      "metadata": {
        "id": "Ocjlo3SoF-H0"
      }
    },
    {
      "cell_type": "code",
      "source": [
        "#Problem 3\n",
        "x=input()\n",
        "y=()\n",
        "z=()\n",
        "for i in range(len(x)):\n",
        "    if x[i].isupper():\n",
        "      y=x[i+1:]\n",
        "      for i in range(len(y)):\n",
        "          if y[i].isupper():\n",
        "              z=y[0:i]\n",
        "if len(z)==0:\n",
        "    print(\"BLANK\")\n",
        "else:\n",
        "    print(z)"
      ],
      "metadata": {
        "colab": {
          "base_uri": "https://localhost:8080/"
        },
        "id": "1L9tHoGmf-mQ",
        "outputId": "ae946080-76be-4790-c3cc-2329eb620d72"
      },
      "execution_count": null,
      "outputs": [
        {
          "output_type": "stream",
          "name": "stdout",
          "text": [
            "baNgladEsh\n",
            "glad\n"
          ]
        }
      ]
    },
    {
      "cell_type": "code",
      "source": [
        "#3\n",
        "user=input()\n",
        "count=0\n",
        "for i in range(0,len(user)):\n",
        "  if 65<=ord(user[i])<=90:\n",
        "    count+=1\n",
        "    if count==1:\n",
        "      first=i\n",
        "    elif count==2:\n",
        "      second=i\n",
        "      break\n",
        "new=user[first+1:second]\n",
        "if new==\"\":\n",
        "  print(\"BLANK\")\n",
        "else:\n",
        "  print(new)"
      ],
      "metadata": {
        "colab": {
          "base_uri": "https://localhost:8080/"
        },
        "id": "qq5I9CHvR7yP",
        "outputId": "260a8535-ea06-4a7e-de3c-8a3109c1cafe"
      },
      "execution_count": null,
      "outputs": [
        {
          "output_type": "stream",
          "name": "stdout",
          "text": [
            "baNgladEsh\n",
            "glad\n"
          ]
        }
      ]
    },
    {
      "cell_type": "markdown",
      "source": [
        "#Task 4"
      ],
      "metadata": {
        "id": "Y2QaBkirG-oM"
      }
    },
    {
      "cell_type": "code",
      "source": [
        "#Problem 4(string)\n",
        "x=input()\n",
        "y=input()\n",
        "z=\"\"\n",
        "for i in range(len(x)):\n",
        "    if x[i] in y:\n",
        "        z+=x[i]\n",
        "for j in range(len(y)):\n",
        "     if y[j] in x:\n",
        "        z+=y[j]\n",
        "if z==\"\":\n",
        "    print(\"Nothing in common\")\n",
        "else:\n",
        "    print(z)"
      ],
      "metadata": {
        "id": "PJOGImiyN3yB"
      },
      "execution_count": null,
      "outputs": []
    },
    {
      "cell_type": "code",
      "source": [
        "#Problem 5\n",
        "x=input()\n",
        "y=(\"0123456789\")\n",
        "z=(\"_,$,@,#\")\n",
        "a=0\n",
        "b=0\n",
        "c=0\n",
        "d=0\n",
        "for i in x:\n",
        "    if i.isupper():\n",
        "        a+=1\n",
        "    elif i.islower():\n",
        "        b+=1\n",
        "    elif i in y:\n",
        "        c+=1 \n",
        "    elif i in z:\n",
        "        d+=1\n",
        "if a!=0 and b!=0 and c!=0 and d!=0:\n",
        "    print(\"OK\")\n",
        "else:\n",
        "    if a==0:\n",
        "        print(\"Uppercase character is missing\",end=\", \")\n",
        "    if b==0:\n",
        "        print(\"lowercase character is missing\",end=\", \")\n",
        "    if c==0:\n",
        "        print(\"Digit is missing\",end=\", \")\n",
        "    if d==0:\n",
        "        print(\"Special character is missing\",end=\", \")"
      ],
      "metadata": {
        "colab": {
          "base_uri": "https://localhost:8080/"
        },
        "id": "lRYGyTOjjOx_",
        "outputId": "1161a970-0553-46a9-d018-05129ce21c09"
      },
      "execution_count": null,
      "outputs": [
        {
          "output_type": "stream",
          "name": "stdout",
          "text": [
            "ohmybracu\n",
            "Uppercase character is missing, Digit is missing, Special character is missing, "
          ]
        }
      ]
    },
    {
      "cell_type": "code",
      "source": [
        "#5\n",
        "user=input()\n",
        "upper=False\n",
        "lower=False\n",
        "digit=False\n",
        "special=False\n",
        "for i in user:\n",
        "  if 65<=ord(i)<=90:\n",
        "    upper=True\n",
        "  elif 97<=ord(i)<=122:\n",
        "    lower=True\n",
        "  elif 48<=ord(i)<=57:\n",
        "    digit=True\n",
        "  elif ord(i) in [35,36,64,95]:\n",
        "    special=True\n",
        "out=\"\"\n",
        "if upper==lower==digit==special==True:\n",
        "  print(\"OK\")\n",
        "if upper==False:\n",
        "  out+=\"Uppercase character missing,\"\n",
        "if lower==False:\n",
        "  out+=\"Lowercase character missing,\"\n",
        "if digit==False:\n",
        "  out+=\"Digit missing,\"\n",
        "if special==False:\n",
        "  out+=\"Special character missing,\"\n",
        "print(out[0:-1])"
      ],
      "metadata": {
        "colab": {
          "base_uri": "https://localhost:8080/"
        },
        "id": "yIfsNBx3c-39",
        "outputId": "362f19cb-2f97-4e70-f648-f3dacd367e99"
      },
      "execution_count": null,
      "outputs": [
        {
          "output_type": "stream",
          "name": "stdout",
          "text": [
            "OhMyBR@CU20\n",
            "OK\n",
            "\n"
          ]
        }
      ]
    },
    {
      "cell_type": "code",
      "source": [
        "#task 1(list)\n",
        "lst=[]\n",
        "while True:\n",
        "  user=input()\n",
        "  if user!=\"STOP\":\n",
        "    lst.append(int(user))\n",
        "  elif user==\"STOP\":\n",
        "    break\n",
        "newlist=[]\n",
        "for i in lst:\n",
        "  if i not in newlist:\n",
        "    newlist.append(i)\n",
        "count=0\n",
        "for j in newlist:\n",
        "  for k in lst:\n",
        "    if j==k:\n",
        "      count+=1\n",
        "  print(f\"{j} - {count} times\")\n",
        "  count=0\n"
      ],
      "metadata": {
        "colab": {
          "base_uri": "https://localhost:8080/"
        },
        "id": "j5xcAbn_UayT",
        "outputId": "652497b7-0388-480c-fda7-6305c66671de"
      },
      "execution_count": null,
      "outputs": [
        {
          "output_type": "stream",
          "name": "stdout",
          "text": [
            "10\n",
            "20\n",
            "20\n",
            "30\n",
            "10\n",
            "50\n",
            "90\n",
            "STOP\n",
            "10 - 2 times\n",
            "20 - 2 times\n",
            "30 - 1 times\n",
            "50 - 1 times\n",
            "90 - 1 times\n"
          ]
        }
      ]
    },
    {
      "cell_type": "code",
      "source": [
        "#task 3\n",
        "alist=[]\n",
        "a=input().split()\n",
        "b=input().split()\n",
        "for i in a:\n",
        "  for j in b:\n",
        "    alist.append(int(i)*int(j))\n",
        "print(alist)    "
      ],
      "metadata": {
        "id": "K9PW0TL3HJ7s",
        "colab": {
          "base_uri": "https://localhost:8080/"
        },
        "outputId": "4f0c94fb-e1e4-4933-d816-a6e9a35a5ce3"
      },
      "execution_count": null,
      "outputs": [
        {
          "output_type": "stream",
          "name": "stdout",
          "text": [
            "2 3 6\n",
            "3 4 5\n",
            "[6, 8, 10, 9, 12, 15, 18, 24, 30]\n"
          ]
        }
      ]
    },
    {
      "cell_type": "code",
      "source": [
        "#4\n",
        "given={\"key1\":\"value1\",\"key2\":\"value2\",\"key3\":\"value1\"}\n",
        "\n",
        "adict={}\n",
        "for i,j in given.items():\n",
        "  if j not in adict:\n",
        "    adict[j]=[]\n",
        "  adict[j].append((i))\n",
        "\n",
        "print(adict)"
      ],
      "metadata": {
        "colab": {
          "base_uri": "https://localhost:8080/"
        },
        "id": "6R5KOsV0id1Y",
        "outputId": "563623dc-c240-4735-8c3f-53049099f9b4"
      },
      "execution_count": null,
      "outputs": [
        {
          "output_type": "stream",
          "name": "stdout",
          "text": [
            "{'value1': ['key1', 'key3'], 'value2': ['key2']}\n"
          ]
        }
      ]
    },
    {
      "cell_type": "code",
      "source": [
        "adict={}\n",
        "while True:\n",
        "  user=input()\n",
        "  if user!=\"STOP\":\n",
        "    if user not in adict:\n",
        "      adict[user]=1\n",
        "    elif user in adict:\n",
        "      for key,value in adict.items():\n",
        "        if key==user:\n",
        "          nvalue=value+1\n",
        "          adict[key]=nvalue\n",
        "\n",
        "  elif user==\"STOP\":\n",
        "    break\n",
        "\n",
        "print(adict)\n",
        "for key,value in adict.items():\n",
        "  print(f\"{key} - {value} times\")"
      ],
      "metadata": {
        "colab": {
          "base_uri": "https://localhost:8080/"
        },
        "id": "qt1g9Z57oj1F",
        "outputId": "0cb0980c-16f8-473b-d7c4-89eded6538be"
      },
      "execution_count": null,
      "outputs": [
        {
          "output_type": "stream",
          "name": "stdout",
          "text": [
            "10\n",
            "20\n",
            "20\n",
            "30\n",
            "10\n",
            "50\n",
            "90\n",
            "STOP\n",
            "{'10': 2, '20': 2, '30': 1, '50': 1, '90': 1}\n",
            "10 - 2 times\n",
            "20 - 2 times\n",
            "30 - 1 times\n",
            "50 - 1 times\n",
            "90 - 1 times\n"
          ]
        }
      ]
    },
    {
      "cell_type": "markdown",
      "source": [
        "#Task 5"
      ],
      "metadata": {
        "id": "Z3aymZeeHD5t"
      }
    },
    {
      "cell_type": "code",
      "source": [
        "word= \"baNgladEsh\"\n",
        "count=0\n",
        "for i in word:\n",
        "   if ord(i)>=65 and ord(i)<=90:\n",
        "      count+=1\n",
        "#print(count)\n",
        "      if count==2:\n",
        "         \n"
      ],
      "metadata": {
        "id": "LbKvKeZoHDRs",
        "colab": {
          "base_uri": "https://localhost:8080/"
        },
        "outputId": "8c069044-62f1-4293-a68d-2e728afe0b48"
      },
      "execution_count": null,
      "outputs": [
        {
          "output_type": "stream",
          "name": "stdout",
          "text": [
            "2\n"
          ]
        }
      ]
    },
    {
      "cell_type": "markdown",
      "source": [
        "Task 6"
      ],
      "metadata": {
        "id": "Vyq46V40HKcs"
      }
    },
    {
      "cell_type": "code",
      "source": [
        "#Dictionary and Tuple\n",
        "#Problem 01\n",
        "x=input()\n",
        "z=input()\n",
        "x=x.split(\",\")\n",
        "z=z.split(\",\")\n",
        "y={}\n",
        "p={}\n",
        "v=[]\n",
        "for i in x:\n",
        "    key,value=i.split(\": \")\n",
        "    y.update({key: int(value)})\n",
        "for i in z:\n",
        "    key,value=i.split(\": \")\n",
        "    p.update({key: int(value)})\n",
        "for key,value in p.items():\n",
        "    if key in y.keys():\n",
        "        y[key]+=value\n",
        "    else:\n",
        "        y[key]=value\n",
        "v=[]\n",
        "for i in y.values():\n",
        "    if i not in v:\n",
        "        v.append(i)\n",
        "   \n",
        "print(y)\n",
        "v.sort()\n",
        "print(\"Values:\",tuple(v))"
      ],
      "metadata": {
        "id": "leYJMNOZHLHV",
        "colab": {
          "base_uri": "https://localhost:8080/"
        },
        "outputId": "a7037190-dd4f-4681-bba9-de202b435f43"
      },
      "execution_count": null,
      "outputs": [
        {
          "output_type": "stream",
          "name": "stdout",
          "text": [
            "a: 100, b: 100, c: 200, d: 300\n",
            "a: 300, b: 200, d: 400, e: 200\n",
            "{'a': 400, ' b': 300, ' c': 200, ' d': 700, ' e': 200}\n",
            "Values: (200, 300, 400, 700)\n"
          ]
        }
      ]
    },
    {
      "cell_type": "code",
      "source": [
        "#Problem 2\n",
        "dict1={}\n",
        "while True:\n",
        "    x=input()\n",
        "    if x==\"STOP\":\n",
        "        break\n",
        "    else:\n",
        "        if x in dict1:\n",
        "            dict1[x]+=1\n",
        "        else:\n",
        "            dict1[x]=1\n",
        "for i,j in dict1.items():\n",
        "    print(f\"{i} - {j} times\")"
      ],
      "metadata": {
        "id": "hVElHbseN36x"
      },
      "execution_count": null,
      "outputs": []
    },
    {
      "cell_type": "code",
      "source": [
        "#Problem 2(list)\n",
        "N=int(input())\n",
        "A=[]\n",
        "max=0\n",
        "for i in range(N):\n",
        "    x=input()\n",
        "    x=x.split(\",\")\n",
        "    for i in range(len(x)):\n",
        "        x[i]=int(x[i])\n",
        "    A.append(x)\n",
        "for i in A:\n",
        "    B=sum(i)\n",
        "    if B>max:\n",
        "        max=B\n",
        "        M=i\n",
        "print(max)\n",
        "print(M)"
      ],
      "metadata": {
        "id": "WP0RrxXBTvR2"
      },
      "execution_count": null,
      "outputs": []
    },
    {
      "cell_type": "code",
      "source": [
        "#Problem5(list)ACM ICPC\n",
        "h=[]\n",
        "value = input()\n",
        "user = input()\n",
        "for j in range(0,len(value),2):\n",
        "   h.append(int(value[j]))\n",
        "N = h[0]\n",
        "K = h[1]\n",
        "#user = input()\n",
        "a=0\n",
        "b=0\n",
        "for i in range(0,len(user),2):\n",
        "    a=int(user[i])+K\n",
        "    if a<=5:\n",
        "        b+=1\n",
        "c=b//3\n",
        "print(c)"
      ],
      "metadata": {
        "colab": {
          "base_uri": "https://localhost:8080/"
        },
        "id": "1IXG5YYhNSRw",
        "outputId": "55711734-64fb-458f-a7cd-11a5e31abd2d"
      },
      "execution_count": null,
      "outputs": [
        {
          "output_type": "stream",
          "name": "stdout",
          "text": [
            "5 2\n",
            "0 4 5 1 0\n",
            "1\n"
          ]
        }
      ]
    },
    {
      "cell_type": "code",
      "source": [
        "#problem 4\n",
        "add=[]\n",
        "A=1\n",
        "while True:\n",
        "    N=input()\n",
        "    if N!=\"STOP\":\n",
        "        N = N.split()\n",
        "        for i in range(len(N)):\n",
        "            N[i]=int(N[i])\n",
        "\n",
        "        for j in range(len(N)-1):\n",
        "            add.append(abs(N[j]-N[j+1]))\n",
        "\n",
        "        for k in add :\n",
        "            if k<=(len(N)-1):\n",
        "               pass\n",
        "            else:\n",
        "               A=0\n",
        "        if A==0:\n",
        "            print(\"Not UB Jumper\")    \n",
        "        else:\n",
        "            print(\"UB Jumper\")  \n",
        "    else:\n",
        "        break"
      ],
      "metadata": {
        "colab": {
          "base_uri": "https://localhost:8080/"
        },
        "id": "tjhp6OMjGL7-",
        "outputId": "7cd04f85-66f1-4fa0-a8a1-3e9d6e9aa318"
      },
      "execution_count": null,
      "outputs": [
        {
          "name": "stdout",
          "output_type": "stream",
          "text": [
            "1 4 2 3\n",
            "UB Jumper\n",
            "2 1 4 6 10\n",
            "UB Jumper\n",
            "1 4 2 -1 6\n",
            "Not UB Jumper\n",
            "STOP\n"
          ]
        }
      ]
    },
    {
      "cell_type": "code",
      "source": [
        "#Problem 5\n",
        "x=input()\n",
        "y=(\"0123456789\")\n",
        "z=(\"_,$,@,#\")\n",
        "string=\"\"\n",
        "a=0\n",
        "b=0\n",
        "c=0\n",
        "d=0\n",
        "for i in x:\n",
        "    if 65<=ord(i)<=90: \n",
        "        a+=1\n",
        "    elif 97<=ord(i)<=122:  \n",
        "        b+=1\n",
        "    elif i in y:\n",
        "        c+=1 \n",
        "    elif i in z:\n",
        "        d+=1\n",
        "if a!=0 and b!=0 and c!=0 and d!=0:\n",
        "    print(\"OK\")\n",
        "else:\n",
        "    if a==0:\n",
        "        string+=\"Uppercase character missing,\"\n",
        "    if b==0:\n",
        "        string+='Lowercase character missing,'\n",
        "    if c==0:\n",
        "        string+='Digit missing,'\n",
        "    if d==0:\n",
        "        string+='Special character missing'\n",
        "print(string[:-1])  "
      ],
      "metadata": {
        "colab": {
          "base_uri": "https://localhost:8080/"
        },
        "id": "gQOO_Hwb1ex-",
        "outputId": "64361e2b-4374-48c8-e65e-6002864243c6"
      },
      "execution_count": null,
      "outputs": [
        {
          "output_type": "stream",
          "name": "stdout",
          "text": [
            "ohMyBR@CU\n",
            "Digit missing\n"
          ]
        }
      ]
    },
    {
      "cell_type": "code",
      "source": [
        "#Problem 5\n",
        "x=input()\n",
        "y=(\"0123456789\")\n",
        "z=(\"_,$,@,#\")\n",
        "string=\"\"\n",
        "a=0\n",
        "b=0\n",
        "c=0\n",
        "d=0\n",
        "for i in x:\n",
        "    if \"A\"<=i<=\"Z\": \n",
        "        a+=1\n",
        "    elif \"a\"<=i<=\"z\":  \n",
        "        b+=1\n",
        "    elif i in y:\n",
        "        c+=1 \n",
        "    elif i in z:\n",
        "        d+=1\n",
        "if a!=0 and b!=0 and c!=0 and d!=0:\n",
        "    print(\"OK\")\n",
        "else:\n",
        "    if a==0:\n",
        "        string+=\"Uppercase character missing,\"\n",
        "    if b==0:\n",
        "        string+='Lowercase character missing,'\n",
        "    if c==0:\n",
        "        string+='Digit missing,'\n",
        "    if d==0:\n",
        "        string+='Special character missing,'\n",
        "print(string[:-1])        "
      ],
      "metadata": {
        "colab": {
          "base_uri": "https://localhost:8080/"
        },
        "id": "R6TDuCZ13GoX",
        "outputId": "4185c6a8-f4cd-4f24-9b11-5537214a5ae5"
      },
      "execution_count": null,
      "outputs": [
        {
          "output_type": "stream",
          "name": "stdout",
          "text": [
            "ohMyBR@CU\n",
            "Digit missing\n"
          ]
        }
      ]
    },
    {
      "cell_type": "code",
      "source": [
        "press={'1':['.',',','?','!',':'],'2':['A','B','C'],'3':['D','E','F'],'4':['G','H','I'],'5':['J','K','L'],'6':['M','N','O'],\n",
        "'7':['P','Q','R','S'],'8':['T','U','V'],'9':['W','X','Y','Z'],'0':[' ']}\n",
        "text=input('').upper()\n",
        "for i in text:\n",
        "    for k,v in press.items():\n",
        "        if i in v:\n",
        "                print(k*(v.index(i)+1),end='')"
      ],
      "metadata": {
        "id": "MLN11F4_J-PV"
      },
      "execution_count": null,
      "outputs": []
    },
    {
      "cell_type": "code",
      "source": [
        "#dictionary 1\n",
        "dict1={\"a\": 100, \"b\": 100, \"c\": 200, \"d\": 300}\n",
        "dict2={\"a\": 300, \"b\": 200, \"d\": 400, \"e\": 200}\n",
        "ndict={}\n",
        "for key1,value1 in dict1.items():\n",
        "    for key2,value2 in dict2.items():\n",
        "        if key1==key2:\n",
        "           ndict[key1]=value1+value2\n",
        "        #elif key1!=key2:\n",
        "           #ndict.update({key1:value1}) and ndict.update({key2:value2})  \n",
        "print(ndict)           "
      ],
      "metadata": {
        "colab": {
          "base_uri": "https://localhost:8080/"
        },
        "id": "xrWMTS5CmV5G",
        "outputId": "92ec36c7-5a1e-48b9-e44d-4c4e90e520ca"
      },
      "execution_count": null,
      "outputs": [
        {
          "output_type": "stream",
          "name": "stdout",
          "text": [
            "{'a': 400, 'b': 300, 'd': 700}\n"
          ]
        }
      ]
    },
    {
      "cell_type": "code",
      "source": [
        "dict1={\"a\": 100, \"b\": 100, \"c\": 200, \"d\": 300}\n",
        "dict2={\"a\": 300, \"b\": 200, \"d\": 400, \"e\": 200}\n",
        "#ndict={}\n",
        "max=0\n",
        "t=[]\n",
        "v=[]\n",
        "for key,value in dict2.items():\n",
        "    if key in dict1.keys():\n",
        "        dict1[key]+=value\n",
        "    else:\n",
        "        dict1[key]=value\n",
        "print(dict1) \n",
        "for k in dict1.keys():\n",
        "    t.append(k)\n",
        "for i in range(len(t)-1)\n",
        "    if     \n"
      ],
      "metadata": {
        "colab": {
          "base_uri": "https://localhost:8080/"
        },
        "id": "G5f9SsrQsi7b",
        "outputId": "65fc5254-c674-4384-fe9e-dc75c970f231"
      },
      "execution_count": null,
      "outputs": [
        {
          "output_type": "stream",
          "name": "stdout",
          "text": [
            "{'a': 400, 'b': 300, 'c': 200, 'd': 700, 'e': 200}\n"
          ]
        }
      ]
    }
  ]
}