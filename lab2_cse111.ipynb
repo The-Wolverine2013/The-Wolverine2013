{
  "nbformat": 4,
  "nbformat_minor": 0,
  "metadata": {
    "colab": {
      "provenance": []
    },
    "kernelspec": {
      "name": "python3",
      "display_name": "Python 3"
    },
    "language_info": {
      "name": "python"
    }
  },
  "cells": [
    {
      "cell_type": "code",
      "source": [
        "#1\n",
        "def BMI(h,w):\n",
        "  mh=(h/100)\n",
        "  bmi=w/(mh**2)\n",
        "  if bmi<18.5:\n",
        "    output=\"underweight\"\n",
        "  elif 18.5<=bmi<=24.9:\n",
        "    output=\"Normal\"\n",
        "  elif 25<=bmi<=30:\n",
        "    output=\"Overweight\"\n",
        "  elif bmi>30:\n",
        "    output=\"Obese\"\n",
        "  return f\"Score is {bmi:.1f}. You are {output}\"\n",
        "print(BMI(175,96))\n",
        "print(BMI(152,48))"
      ],
      "metadata": {
        "colab": {
          "base_uri": "https://localhost:8080/"
        },
        "id": "zi7VkpKXN7Vx",
        "outputId": "93e163a6-158b-4ec9-c069-515dd6b1e80d"
      },
      "execution_count": null,
      "outputs": [
        {
          "output_type": "stream",
          "name": "stdout",
          "text": [
            "Score is 31.3. You are Obese\n",
            "Score is 20.8. You are Normal\n"
          ]
        }
      ]
    },
    {
      "cell_type": "code",
      "source": [
        "#2\n",
        "def food(name,location=\"Mohakhali\"):\n",
        "  adict={\"BBQ Chicken Cheese Burger\":250,\n",
        "         \"Beef Burger\":170,\n",
        "         \"Naga Drums\":200}\n",
        "  if location==\"Mohakhali\":\n",
        "    price=adict[name]+40+(adict[name]*(8/100))\n",
        "  else:\n",
        "    price=adict[name]+60+(adict[name]*(8/100))\n",
        "  return price\n",
        "\n",
        "print(food(\"Beef Burger\",\"Dhanmondi\"))\n",
        "print()\n"
      ],
      "metadata": {
        "colab": {
          "base_uri": "https://localhost:8080/"
        },
        "id": "ECd3uUHJOieo",
        "outputId": "20b08e3c-d498-44ec-fa1d-102e24f965c7"
      },
      "execution_count": null,
      "outputs": [
        {
          "output_type": "stream",
          "name": "stdout",
          "text": [
            "243.6\n"
          ]
        }
      ]
    },
    {
      "cell_type": "code",
      "source": [
        "#3\n",
        "def replace_domain(email,replace,old=\"kaaj.com\"):\n",
        "    #for i in email\n",
        "    ind=email.find(\"@\")\n",
        "    rep=email[ind+1:]\n",
        "\n",
        "\n",
        "    if rep==old:\n",
        "      #print(12334)\n",
        "      nemail=email[:ind]+\"@\"+ replace\n",
        "      print(\"Changed: {}\".format(nemail))\n",
        "    elif rep==replace:\n",
        "      print(\"unchanged: {}\".format(email))\n",
        "    #return v\n",
        "replace_domain(\"alice@kaaj.com\",\"sheba.xzy\",\"kaaj.com\")\n",
        "replace_domain(\"bob@sheba.xyz\",\"sheba.xyz\")"
      ],
      "metadata": {
        "colab": {
          "base_uri": "https://localhost:8080/"
        },
        "id": "RDvpRI6CRaxe",
        "outputId": "5c18cd11-8cda-4939-9f6c-b3d553ea2f11"
      },
      "execution_count": null,
      "outputs": [
        {
          "output_type": "stream",
          "name": "stdout",
          "text": [
            "Changed: alice@sheba.xzy\n",
            "unchanged: bob@sheba.xyz\n"
          ]
        }
      ]
    },
    {
      "cell_type": "code",
      "source": [
        "#4\n",
        "def is_palindrome(text):\n",
        "  text=text.replace(\" \",\"\")\n",
        "  check=True\n",
        "  #print(text)\n",
        "\n",
        "\n",
        "  for i in range(0,(len(text)//2)):\n",
        "        if text[i] !=  text[len(text)-i-1]:\n",
        "          check = False\n",
        "          break\n",
        "\n",
        "  if(check == True):\n",
        "      print('Palindrome')\n",
        "  else:\n",
        "      print('Not a palindrome')\n",
        "\n",
        "is_palindrome(\"madam\")\n",
        "is_palindrome(\"hello\")"
      ],
      "metadata": {
        "colab": {
          "base_uri": "https://localhost:8080/"
        },
        "id": "oXYKaaGzZavd",
        "outputId": "032a50b0-cd2b-4ab5-8cbf-0bdd13585b74"
      },
      "execution_count": null,
      "outputs": [
        {
          "output_type": "stream",
          "name": "stdout",
          "text": [
            "Palindrome\n",
            "Not a palindrome\n"
          ]
        }
      ]
    },
    {
      "cell_type": "code",
      "source": [
        "#5\n",
        "def days(num):\n",
        "   years=num//365\n",
        "   month=(num%365)//30\n",
        "   day=(num%365)%30\n",
        "   print(\"{} years,{} months and {} days\".format(years,month,day))\n",
        "days(4320)\n",
        "days(4000)"
      ],
      "metadata": {
        "colab": {
          "base_uri": "https://localhost:8080/"
        },
        "id": "3IxVT5RiaUe7",
        "outputId": "ac40b8ec-1c49-44dd-eb49-8570c6279be9"
      },
      "execution_count": null,
      "outputs": [
        {
          "output_type": "stream",
          "name": "stdout",
          "text": [
            "11 years,10 months and 5 days\n",
            "10 years,11 months and 20 days\n"
          ]
        }
      ]
    },
    {
      "cell_type": "code",
      "source": [
        "#6\n",
        "def paragraph(text):\n",
        "  inpu=text[:-1]\n",
        "  alist=[]\n",
        "  for i in range(len(inpu)):\n",
        "    if i==0 and 97<=ord(inpu[0])<=122:\n",
        "      alist.append(0)\n",
        "    elif inpu[i] in [\".\",\"!\",\"?\"]:\n",
        "      alist.append(i+2)\n",
        "  string=\"\"\n",
        "  for j in range(len(text)):\n",
        "    if j in alist:\n",
        "      string+=chr(ord(text[j])-32)\n",
        "    else:\n",
        "      string+=text[j]\n",
        "  nstring=\"\"\n",
        "  for k in range(len(string)):\n",
        "    if string[k]==\"i\" and string[k-1]==\" \" and string[k+1]==\" \":\n",
        "      nstring+=\"I\"\n",
        "    else:\n",
        "      nstring+=string[k]\n",
        "  return nstring\n",
        "print(paragraph(\"my favourite animal is a dog. a dog has sharp teeth so that it can eat easily. do you know my pet dog's name? i love my pet very much.\"))"
      ],
      "metadata": {
        "colab": {
          "base_uri": "https://localhost:8080/"
        },
        "id": "I0e6XJ08erpT",
        "outputId": "72406fdd-e0b0-4ad0-eea1-e157d0189ca7"
      },
      "execution_count": null,
      "outputs": [
        {
          "output_type": "stream",
          "name": "stdout",
          "text": [
            "My favourite animal is a dog. A dog has sharp teeth so that it can eat easily. Do you know my pet dog's name? I love my pet very much.\n"
          ]
        }
      ]
    },
    {
      "cell_type": "code",
      "source": [
        "#Problem 06\n",
        "def function(string):\n",
        "    upper=[0]\n",
        "    for i in range(len(string)):\n",
        "        if string[i] ==\".\" or string[i] ==\"?\" or string[i] ==\"!\":\n",
        "            upper.append(i+2)\n",
        "    add=\"\"\n",
        "    for i in range(len(string)):\n",
        "        if i in upper:\n",
        "            add+=string[i].upper()\n",
        "        else:\n",
        "            add+=string[i]\n",
        "    add=add.replace(\" i \",\" I \")\n",
        "    print(add)\n",
        "string=input()[2:-2]\n",
        "function(string)"
      ],
      "metadata": {
        "colab": {
          "base_uri": "https://localhost:8080/"
        },
        "id": "LcUzz7hFBYbk",
        "outputId": "103c2230-5ae6-45fc-e41c-efa5be92469d"
      },
      "execution_count": null,
      "outputs": [
        {
          "output_type": "stream",
          "name": "stdout",
          "text": [
            "(\"my favourite animal is a dog. a dog has sharp teeth so that it can eat easily. do you know my pet dog's name? i love my pet very much.\")\n",
            "My favourite animal is a dog. A dog has sharp teeth so that it can eat easily. Do you know my pet dog's name? I love my pet very much.\n"
          ]
        }
      ]
    },
    {
      "cell_type": "code",
      "source": [
        "#1\n",
        "def BMI(height,weight):\n",
        "  out=weight/((height/100)**2)\n",
        "  if out<18.5:\n",
        "    condition=\"underweight\"\n",
        "  elif 18.5<=out<=24.9:\n",
        "    condition=\"Normal\"\n",
        "  elif 25<=out<=30:\n",
        "    condition=\"Overweight\"\n",
        "  elif out>30:\n",
        "    condition=\"Obese\"\n",
        "  return f\"Score is {out:.1f}. You are {condition}\"\n",
        "print(BMI(175,96))\n",
        "print(BMI(152,48))\n"
      ],
      "metadata": {
        "colab": {
          "base_uri": "https://localhost:8080/"
        },
        "id": "DKOEUmQvC0so",
        "outputId": "edbbdff5-8cb6-4df8-9a18-3aec1a03ada0"
      },
      "execution_count": null,
      "outputs": [
        {
          "output_type": "stream",
          "name": "stdout",
          "text": [
            "Score is 31.3. You are Obese\n",
            "Score is 20.8. You are Normal\n"
          ]
        }
      ]
    }
  ]
}